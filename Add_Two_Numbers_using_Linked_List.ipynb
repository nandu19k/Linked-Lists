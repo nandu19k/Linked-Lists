{
  "nbformat": 4,
  "nbformat_minor": 0,
  "metadata": {
    "colab": {
      "name": "Add Two Numbers using Linked List.ipynb",
      "provenance": []
    },
    "kernelspec": {
      "name": "python3",
      "display_name": "Python 3"
    }
  },
  "cells": [
    {
      "cell_type": "markdown",
      "metadata": {
        "id": "V5q-yMNSgew6"
      },
      "source": [
        "Problem Link: https://leetcode.com/problems/add-two-numbers/"
      ]
    },
    {
      "cell_type": "code",
      "metadata": {
        "id": "XvlDxFePf5MQ"
      },
      "source": [
        "class Node:\n",
        "  def __init__(self , data=None , next = None):\n",
        "    self.data = data\n",
        "    self.next = next"
      ],
      "execution_count": 1,
      "outputs": []
    },
    {
      "cell_type": "code",
      "metadata": {
        "id": "YknhWZYMg6E2"
      },
      "source": [
        "class LinkedList:\n",
        "  def __init__(self):\n",
        "    self.head = None\n",
        "\n",
        "  def print(self):\n",
        "    if self.head is None:\n",
        "      print('Liked List is empty')\n",
        "      return\n",
        "    \n",
        "    llstr = ''\n",
        "    itr = self.head\n",
        "\n",
        "    while itr:\n",
        "      llstr += str(itr.data)+'---->' if itr.next else str(itr.data)\n",
        "      itr = itr.next\n",
        "\n",
        "    print(llstr)\n",
        "\n",
        "  def insert_at_begining(self , data):\n",
        "    node = Node(data , self.head)\n",
        "    self.head= node\n",
        "\n",
        "  def reverse(self):\n",
        "    if self.head is None:\n",
        "      return\n",
        "    \n",
        "    current = self.head\n",
        "    prev = None\n",
        "\n",
        "    while current:\n",
        "      next = current.next\n",
        "      current.next = prev\n",
        "      prev = current\n",
        "      current= next\n",
        "\n",
        "    self.head = prev\n",
        "    "
      ],
      "execution_count": 2,
      "outputs": []
    },
    {
      "cell_type": "code",
      "metadata": {
        "id": "tOgxo0Gsmj7d"
      },
      "source": [
        "def add(head1 , head2):\n",
        "  ans = Node()\n",
        "  pointer = ans\n",
        "\n",
        "  sum = 0\n",
        "  carry = 0\n",
        "\n",
        "  while head1 or head2:\n",
        "    sum=carry\n",
        "\n",
        "    if head1 !=None:\n",
        "      sum+=head1.data\n",
        "      head1 = head1.next\n",
        "\n",
        "    if head2 !=None:\n",
        "      sum+=head2.data\n",
        "      head2 = head2.next\n",
        "\n",
        "    carry = int(sum/10)\n",
        "\n",
        "    pointer.next = Node(sum%10)\n",
        "    pointer = pointer.next\n",
        "\n",
        "  if carry>0:\n",
        "    pointer.next = Node(carry)\n",
        "\n",
        "  return ans.next\n",
        "\n"
      ],
      "execution_count": 3,
      "outputs": []
    },
    {
      "cell_type": "code",
      "metadata": {
        "id": "0CgJhbZnqKm9",
        "outputId": "61082b7f-7b03-404d-8fd1-fb525e9cff0c",
        "colab": {
          "base_uri": "https://localhost:8080/"
        }
      },
      "source": [
        "l1 = LinkedList()\n",
        "l1.insert_at_begining(1)\n",
        "l1.insert_at_begining(2)\n",
        "l1.insert_at_begining(3)\n",
        "l1.insert_at_begining(4)\n",
        "l1.insert_at_begining(5)\n",
        "l1.print()\n",
        "\n",
        "l2 = LinkedList()\n",
        "l2.insert_at_begining(2)\n",
        "l2.insert_at_begining(4)\n",
        "l2.insert_at_begining(5)\n",
        "l2.print()\n",
        "\n",
        "l3 = LinkedList()\n",
        "l3.head = add(l1.head , l2.head)\n",
        "l3.print()\n",
        "\n"
      ],
      "execution_count": 4,
      "outputs": [
        {
          "output_type": "stream",
          "text": [
            "5---->4---->3---->2---->1\n",
            "5---->4---->2\n",
            "0---->9---->5---->2---->1\n"
          ],
          "name": "stdout"
        }
      ]
    }
  ]
}