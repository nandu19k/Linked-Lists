{
  "nbformat": 4,
  "nbformat_minor": 0,
  "metadata": {
    "colab": {
      "name": "Detect cycle in a Linked List.ipynb",
      "provenance": []
    },
    "kernelspec": {
      "name": "python3",
      "display_name": "Python 3"
    }
  },
  "cells": [
    {
      "cell_type": "markdown",
      "metadata": {
        "id": "j-debEolOrYx"
      },
      "source": [
        "![image.png](data:image/png;base64,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)"
      ]
    },
    {
      "cell_type": "code",
      "metadata": {
        "id": "PRGohV96O66R"
      },
      "source": [
        "class Node:\n",
        "  def __init__(self , data=None , next=None):\n",
        "    self.data = data\n",
        "    self.next = next"
      ],
      "execution_count": 1,
      "outputs": []
    },
    {
      "cell_type": "markdown",
      "metadata": {
        "id": "Y3tFKLbkOoFu"
      },
      "source": [
        "1. Using Hashing\n"
      ]
    },
    {
      "cell_type": "code",
      "metadata": {
        "id": "d3_kiybmPFcZ"
      },
      "source": [
        "def CycleinList(head):\n",
        "  curr = head\n",
        "\n",
        "  s = set()\n",
        "\n",
        "  while curr:\n",
        "    if curr in s:\n",
        "      return True\n",
        "\n",
        "    s.add(curr)\n",
        "    curr = curr.next\n",
        "\n",
        "  return False\n"
      ],
      "execution_count": 2,
      "outputs": []
    },
    {
      "cell_type": "code",
      "metadata": {
        "id": "Yq9ad0RLQI38",
        "outputId": "3e0828ef-895c-402e-beec-afd2672cec1c",
        "colab": {
          "base_uri": "https://localhost:8080/"
        }
      },
      "source": [
        "list(reversed(range(5)))"
      ],
      "execution_count": 3,
      "outputs": [
        {
          "output_type": "execute_result",
          "data": {
            "text/plain": [
              "[4, 3, 2, 1, 0]"
            ]
          },
          "metadata": {
            "tags": []
          },
          "execution_count": 3
        }
      ]
    },
    {
      "cell_type": "code",
      "metadata": {
        "id": "l1DeQh6mPzDw",
        "outputId": "a0538f9b-f99e-4a4f-f2a8-ea99248ce925",
        "colab": {
          "base_uri": "https://localhost:8080/"
        }
      },
      "source": [
        "if __name__ == '__main__':\n",
        "  head = None\n",
        "\n",
        "  for i in reversed(range(5)):\n",
        "    head = Node(i+1 , head)\n",
        "\n",
        "  head.next.next.next.next.next = head.next\n",
        "\n",
        "  if CycleinList(head):\n",
        "    print('There is cycle in the Linked List')\n",
        "  else:\n",
        "    print('No Cycle in the list')"
      ],
      "execution_count": 4,
      "outputs": [
        {
          "output_type": "stream",
          "text": [
            "There is cycle in the Linked List\n"
          ],
          "name": "stdout"
        }
      ]
    },
    {
      "cell_type": "markdown",
      "metadata": {
        "id": "e-IQXRJCRXLo"
      },
      "source": [
        "2.Floyd's cycle detection algorithm"
      ]
    },
    {
      "cell_type": "code",
      "metadata": {
        "id": "XnhBF-NfRU-M"
      },
      "source": [
        "def cycleinlist(head):\n",
        "  curr1 = head\n",
        "  curr2 = head\n",
        "\n",
        "  while curr1 and curr2 and curr1.next:\n",
        "    curr1 = curr1.next.next\n",
        "    curr2 = curr2.next\n",
        "\n",
        "    if curr1 == curr2:\n",
        "      return True\n",
        "\n",
        "  return False"
      ],
      "execution_count": 5,
      "outputs": []
    },
    {
      "cell_type": "code",
      "metadata": {
        "id": "dxU9U17dSecb",
        "outputId": "505f4ce9-99ad-42fa-af1d-cda740b55555",
        "colab": {
          "base_uri": "https://localhost:8080/"
        }
      },
      "source": [
        "if __name__ == '__main__':\n",
        "  head = None\n",
        "\n",
        "  for i in reversed(range(5)):\n",
        "    head = Node(i+1 , head)\n",
        "\n",
        "  #head.next.next.next.next.next = head.next\n",
        "\n",
        "  if cycleinlist(head):\n",
        "    print('There is cycle in the Linked List')\n",
        "  else:\n",
        "    print('No Cycle in the list')"
      ],
      "execution_count": 6,
      "outputs": [
        {
          "output_type": "stream",
          "text": [
            "No Cycle in the list\n"
          ],
          "name": "stdout"
        }
      ]
    }
  ]
}