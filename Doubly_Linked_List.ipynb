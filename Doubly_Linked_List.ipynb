{
  "nbformat": 4,
  "nbformat_minor": 0,
  "metadata": {
    "colab": {
      "name": "Doubly Linked List.ipynb",
      "provenance": []
    },
    "kernelspec": {
      "name": "python3",
      "display_name": "Python 3"
    }
  },
  "cells": [
    {
      "cell_type": "code",
      "metadata": {
        "id": "CyD44Z4exWq-"
      },
      "source": [
        "class Node:\r\n",
        "  def __init__(self , data=None,next=None,prev=None):\r\n",
        "    self.data = data\r\n",
        "    self.next = next\r\n",
        "    self.prev = prev"
      ],
      "execution_count": 1,
      "outputs": []
    },
    {
      "cell_type": "code",
      "metadata": {
        "id": "8GzbRGV1xqlc"
      },
      "source": [
        "class DLL:\r\n",
        "  def __init__(self):\r\n",
        "    self.head = None\r\n",
        "\r\n",
        "  def print(self):\r\n",
        "    if self.head is None:\r\n",
        "      print(\"Linked List is empty!!\")\r\n",
        "      return \r\n",
        "\r\n",
        "    llstr = \"\"\r\n",
        "    curr = self.head\r\n",
        "    while curr:\r\n",
        "      llstr += str(curr.data)+'---->' if curr.next else str(curr.data)\r\n",
        "      curr = curr.next\r\n",
        "    print(llstr)\r\n",
        "  \r\n",
        "  def get_length(self):\r\n",
        "    if self.head is None:\r\n",
        "      return 0\r\n",
        "    \r\n",
        "    curr = self.head\r\n",
        "    count = 0\r\n",
        "    while curr:\r\n",
        "      count += 1\r\n",
        "      curr = curr.next\r\n",
        "    return count\r\n",
        "\r\n",
        "  def insert_at_begining(self , data):\r\n",
        "    node = Node(data , self.head, None)\r\n",
        "    self.head.prev = node\r\n",
        "    self.head = node\r\n",
        "\r\n",
        "  def insert_at_end(self , data):\r\n",
        "    if self.head is None:\r\n",
        "      self.head = Node(data)\r\n",
        "      return\r\n",
        "\r\n",
        "    curr = self.head\r\n",
        "    while curr.next:\r\n",
        "      curr = curr.next\r\n",
        "    \r\n",
        "    curr.next = Node(data,None , curr)\r\n",
        "  \r\n",
        "  def insert_at(self , index , data):\r\n",
        "    if index < 0 or index > self.get_length():\r\n",
        "      raise Exception(\"Invalid Index\")\r\n",
        "    \r\n",
        "    if index == 0:\r\n",
        "      self.insert_at_begining(data)\r\n",
        "      return\r\n",
        "    \r\n",
        "    count = 0\r\n",
        "    curr = self.head\r\n",
        "    while curr:\r\n",
        "      if count == index-1:\r\n",
        "        node = Node(data , curr.next , curr)\r\n",
        "        if node.next:\r\n",
        "          node.next.prev = node\r\n",
        "        curr.next = node\r\n",
        "        break\r\n",
        "      count += 1\r\n",
        "      curr = curr.next\r\n",
        "\r\n",
        "  def remove_at(self , index):\r\n",
        "    if index < 0 or index >= self.get_length():\r\n",
        "      raise Exception(\"invalid Index\")\r\n",
        "\r\n",
        "    if index == 0:\r\n",
        "      self.head = self.head.next\r\n",
        "      self.head.prev = None\r\n",
        "\r\n",
        "    count = 0\r\n",
        "    curr = self.head\r\n",
        "\r\n",
        "    while curr:\r\n",
        "      if count == index-1:\r\n",
        "        curr.next = curr.next.next\r\n",
        "        curr.next.prev = curr\r\n",
        "        break\r\n",
        "      \r\n",
        "      curr = curr.next\r\n",
        "      count += 1\r\n",
        "\r\n",
        "  def insert_values(self , data_list):\r\n",
        "    self.head = None\r\n",
        "    for data in data_list:\r\n",
        "      self.insert_at_end(data)\r\n",
        "\r\n",
        "  def get_last_node(self):\r\n",
        "    itr = self.head\r\n",
        "    while itr.next:\r\n",
        "      itr = itr.next\r\n",
        "    return itr\r\n",
        "\r\n",
        "  def print_backward(self):\r\n",
        "    if self.head is None:\r\n",
        "      print(\"Linked List is empty!\")\r\n",
        "      return\r\n",
        "\r\n",
        "    curr = self.get_last_node()\r\n",
        "    llstr = \"\"\r\n",
        "    while curr:\r\n",
        "      llstr += str(curr.data)+'----->' if curr.prev else str(curr.data)\r\n",
        "      curr = curr.prev\r\n",
        "\r\n",
        "    print(llstr)\r\n",
        "\r\n",
        "\r\n"
      ],
      "execution_count": 2,
      "outputs": []
    },
    {
      "cell_type": "code",
      "metadata": {
        "colab": {
          "base_uri": "https://localhost:8080/"
        },
        "id": "EYyhtoUq54Oj",
        "outputId": "a2e0129e-ec4e-4830-9920-f2be6740e827"
      },
      "source": [
        "if __name__ == '__main__':\r\n",
        "    ll = DLL()\r\n",
        "    ll.insert_values([\"banana\",\"mango\",\"grapes\",\"orange\"])\r\n",
        "    ll.print()\r\n",
        "    ll.insert_at_end(\"figs\")\r\n",
        "    ll.print()\r\n",
        "    ll.insert_at(0,\"jackfruit\")\r\n",
        "    ll.print()\r\n",
        "    ll.insert_at(6,\"dates\")\r\n",
        "    ll.print()\r\n",
        "    ll.insert_at(2,\"kiwi\")\r\n",
        "    ll.print()\r\n",
        "    ll.print_backward()"
      ],
      "execution_count": 3,
      "outputs": [
        {
          "output_type": "stream",
          "text": [
            "banana---->mango---->grapes---->orange\n",
            "banana---->mango---->grapes---->orange---->figs\n",
            "jackfruit---->banana---->mango---->grapes---->orange---->figs\n",
            "jackfruit---->banana---->mango---->grapes---->orange---->figs---->dates\n",
            "jackfruit---->banana---->kiwi---->mango---->grapes---->orange---->figs---->dates\n",
            "dates----->figs----->orange----->grapes----->mango----->kiwi----->banana----->jackfruit\n"
          ],
          "name": "stdout"
        }
      ]
    }
  ]
}