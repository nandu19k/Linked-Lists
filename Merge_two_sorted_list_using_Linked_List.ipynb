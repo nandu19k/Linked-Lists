{
  "nbformat": 4,
  "nbformat_minor": 0,
  "metadata": {
    "colab": {
      "name": "Merge two sorted list using Linked List.ipynb",
      "provenance": []
    },
    "kernelspec": {
      "name": "python3",
      "display_name": "Python 3"
    }
  },
  "cells": [
    {
      "cell_type": "code",
      "metadata": {
        "id": "0q7mIVtyYW3v"
      },
      "source": [
        "class Node:\n",
        "  def __init__(self , data=None , next = None):\n",
        "    self.data = data\n",
        "    self.next=next"
      ],
      "execution_count": 1,
      "outputs": []
    },
    {
      "cell_type": "code",
      "metadata": {
        "id": "PVgF0acLYnrm"
      },
      "source": [
        "class LinkedList:\n",
        "  def __init__(self):\n",
        "    self.head = None\n",
        "\n",
        "  def print(self):\n",
        "    if self.head is None:\n",
        "      print('Linked List is empty')\n",
        "      return\n",
        "    itr= self.head\n",
        "    llstr = ''\n",
        "    while itr:\n",
        "      llstr += str(itr.data) + '-->' if itr.next else str(itr.data)\n",
        "      itr = itr.next\n",
        "    return llstr\n",
        "\n",
        "  def insert_at_begining(self , data):\n",
        "    node = Node(data , self.head)\n",
        "    self.head = node\n",
        "\n"
      ],
      "execution_count": 2,
      "outputs": []
    },
    {
      "cell_type": "code",
      "metadata": {
        "id": "FhOYSfRBfIE1"
      },
      "source": [
        "def mergeLists(headA, headB): \n",
        "  \n",
        "  \n",
        "    dummy = Node(0) \n",
        "\n",
        "    tail = dummy\n",
        "    while True: \n",
        "  \n",
        "        # If any of the list gets completely empty \n",
        "        # directly join all the elements of the other list \n",
        "        if headA is None: \n",
        "            dummy.next = headB \n",
        "            break\n",
        "        if headB is None: \n",
        "            dummy.next = headA \n",
        "            break\n",
        "  \n",
        "        # Compare the data of the lists and whichever is smaller is \n",
        "        # appended to the last of the merged list and the head is changed \n",
        "        if headA.data <= headB.data: \n",
        "            dummy.next = headA \n",
        "            headA = headA.next\n",
        "        else: \n",
        "            dummy.next = headB \n",
        "            headB = headB.next\n",
        "  \n",
        "        # Advance the tail \n",
        "        dummy = dummy.next\n",
        "  \n",
        "    # Returns the head of the merged list \n",
        "    return tail.next\n",
        "  "
      ],
      "execution_count": 8,
      "outputs": []
    },
    {
      "cell_type": "code",
      "metadata": {
        "id": "q2qs9U-jZaOw",
        "outputId": "c817f933-122c-460d-ae8c-0fe505775282",
        "colab": {
          "base_uri": "https://localhost:8080/",
          "height": 69
        }
      },
      "source": [
        "lst1 = LinkedList()\n",
        "lst1.insert_at_begining(6)\n",
        "lst1.print()\n",
        "lst1.insert_at_begining(8)\n",
        "print(lst1.print())\n",
        "lst2 = LinkedList()\n",
        "lst2.insert_at_begining(2)\n",
        "lst2.print()\n",
        "lst2.insert_at_begining(9)\n",
        "print(lst2.print())\n",
        "\n",
        "\n",
        "lst1.head = mergeLists(lst1.head, lst2.head)\n",
        "lst1.print()"
      ],
      "execution_count": 9,
      "outputs": [
        {
          "output_type": "stream",
          "text": [
            "8-->6\n",
            "9-->2\n"
          ],
          "name": "stdout"
        },
        {
          "output_type": "execute_result",
          "data": {
            "application/vnd.google.colaboratory.intrinsic+json": {
              "type": "string"
            },
            "text/plain": [
              "'8-->6-->9-->2'"
            ]
          },
          "metadata": {
            "tags": []
          },
          "execution_count": 9
        }
      ]
    }
  ]
}