{
  "nbformat": 4,
  "nbformat_minor": 0,
  "metadata": {
    "colab": {
      "name": "Odd Even Linked List.ipynb",
      "provenance": []
    },
    "kernelspec": {
      "name": "python3",
      "display_name": "Python 3"
    }
  },
  "cells": [
    {
      "cell_type": "markdown",
      "metadata": {
        "id": "xztBw88Oda-v"
      },
      "source": [
        "Problem Link: https://leetcode.com/problems/odd-even-linked-list/"
      ]
    },
    {
      "cell_type": "code",
      "metadata": {
        "id": "qCBV8mWeWLus"
      },
      "source": [
        "class Node:\n",
        "  def __init__(self , data=None , next=None):\n",
        "    self.data = data\n",
        "    self.next = next"
      ],
      "execution_count": 1,
      "outputs": []
    },
    {
      "cell_type": "code",
      "metadata": {
        "id": "7tgaPaILWo4V"
      },
      "source": [
        "class LinkedList:\n",
        "  def __init__(self):\n",
        "    self.head = None\n",
        "\n",
        "  def insert_at_end(self , data):\n",
        "    if self.head is None:\n",
        "      self.head = Node(data , None)\n",
        "      return\n",
        "\n",
        "    itr = self.head\n",
        "    while itr.next:\n",
        "      itr= itr.next\n",
        "\n",
        "    itr.next = Node(data , None)\n",
        "\n",
        "  def get_length(self):\n",
        "    count = 0\n",
        "    itr = self.head\n",
        "\n",
        "    while itr:\n",
        "      count +=1\n",
        "      itr = itr.next\n",
        "\n",
        "    return count\n",
        "\n",
        "  def print(self):\n",
        "    if self.head is None:\n",
        "      print('LinkedList is Empty')\n",
        "      return\n",
        "\n",
        "    llstr = ''\n",
        "    itr = self.head\n",
        "    while itr:\n",
        "      llstr +=str(itr.data) +'--->' if itr.next else str(itr.data)\n",
        "      itr = itr.next\n",
        "\n",
        "    print(llstr)\n",
        "\n",
        "    \n",
        "  def oddEvenlist(self , head):\n",
        "    if head is None or head.next is None:\n",
        "      return head\n",
        "    \n",
        "    else:\n",
        "      final_connection = head.next\n",
        "      odd = head\n",
        "      even = head.next\n",
        "      while True:\n",
        "\n",
        "        if even.next is not None:\n",
        "          odd.next = even.next\n",
        "        else:\n",
        "          odd.next = final_connection\n",
        "          even.next = None\n",
        "          return head\n",
        "\n",
        "        if even.next.next is not None:\n",
        "          even.next = even.next.next\n",
        "        else:\n",
        "          even.next.next = final_connection\n",
        "          even.next = None\n",
        "          return head\n",
        "\n",
        "        odd = odd.next\n",
        "        even = even.next\n",
        "\n",
        "\n",
        "    \n"
      ],
      "execution_count": 2,
      "outputs": []
    },
    {
      "cell_type": "code",
      "metadata": {
        "id": "CqkCIY78ZbFl",
        "outputId": "54b8a4da-abad-4bd9-a2cd-054bd086b84a",
        "colab": {
          "base_uri": "https://localhost:8080/"
        }
      },
      "source": [
        "ll = LinkedList()\n",
        "ll.insert_at_end(1)\n",
        "ll.insert_at_end(2)\n",
        "ll.insert_at_end(3)\n",
        "ll.insert_at_end(4)\n",
        "ll.insert_at_end(5)\n",
        "ll.insert_at_end(6)\n",
        "ll.print()\n",
        "ll.oddEvenlist(ll.head)\n",
        "ll.print()\n",
        "\n"
      ],
      "execution_count": 3,
      "outputs": [
        {
          "output_type": "stream",
          "text": [
            "1--->2--->3--->4--->5--->6\n",
            "1--->3--->5--->2--->4--->6\n"
          ],
          "name": "stdout"
        }
      ]
    }
  ]
}