{
  "nbformat": 4,
  "nbformat_minor": 0,
  "metadata": {
    "colab": {
      "name": "Remove nth node from end in Linked List.ipynb",
      "provenance": []
    },
    "kernelspec": {
      "name": "python3",
      "display_name": "Python 3"
    }
  },
  "cells": [
    {
      "cell_type": "code",
      "metadata": {
        "id": "qCBV8mWeWLus"
      },
      "source": [
        "class Node:\n",
        "  def __init__(self , data=None , next=None):\n",
        "    self.data = data\n",
        "    self.next = next"
      ],
      "execution_count": 1,
      "outputs": []
    },
    {
      "cell_type": "code",
      "metadata": {
        "id": "7tgaPaILWo4V"
      },
      "source": [
        "class LinkedList:\n",
        "  def __init__(self):\n",
        "    self.head = None\n",
        "\n",
        "  def insert_at_end(self , data):\n",
        "    if self.head is None:\n",
        "      self.head = Node(data , None)\n",
        "      return\n",
        "\n",
        "    itr = self.head\n",
        "    while itr.next:\n",
        "      itr= itr.next\n",
        "\n",
        "    itr.next = Node(data , None)\n",
        "\n",
        "  def get_length(self):\n",
        "    count = 0\n",
        "    itr = self.head\n",
        "\n",
        "    while itr:\n",
        "      count +=1\n",
        "      itr = itr.next\n",
        "\n",
        "    return count\n",
        "\n",
        "  def remvoenodefromend(self , n):\n",
        "    nodefromstart = self.get_length() - n +1\n",
        "    count = 0\n",
        "\n",
        "    if nodefromstart ==1:\n",
        "      self.head = self.head.next\n",
        "      return\n",
        "\n",
        "\n",
        "    itr = self.head\n",
        "\n",
        "    while itr:\n",
        "      count+=1\n",
        "      if count == nodefromstart-1:\n",
        "        itr.next = itr.next.next\n",
        "        break\n",
        "\n",
        "      itr = itr.next\n",
        "\n",
        "  def print(self):\n",
        "    if self.head is None:\n",
        "      print('LinkedList is Empty')\n",
        "      return\n",
        "\n",
        "    llstr = ''\n",
        "    itr = self.head\n",
        "    while itr:\n",
        "      llstr +=str(itr.data) +'--->' if itr.next else str(itr.data)\n",
        "      itr = itr.next\n",
        "\n",
        "    print(llstr)\n"
      ],
      "execution_count": 12,
      "outputs": []
    },
    {
      "cell_type": "code",
      "metadata": {
        "id": "CqkCIY78ZbFl",
        "outputId": "cc2c24d2-cf9e-4ed7-c3ed-24e1172381fe",
        "colab": {
          "base_uri": "https://localhost:8080/"
        }
      },
      "source": [
        "ll = LinkedList()\n",
        "ll.insert_at_end(1)\n",
        "ll.insert_at_end(2)\n",
        "ll.insert_at_end(3)\n",
        "ll.insert_at_end(4)\n",
        "ll.insert_at_end(5)\n",
        "ll.insert_at_end(6)\n",
        "ll.print()\n",
        "ll.remvoenodefromend(2)\n",
        "ll.print()\n",
        "ll.remvoenodefromend(2)\n",
        "ll.print()\n",
        "ll.remvoenodefromend(2)\n",
        "ll.print()\n",
        "ll.remvoenodefromend(3)\n",
        "ll.print()\n",
        "ll.remvoenodefromend(2)\n",
        "ll.print()"
      ],
      "execution_count": 16,
      "outputs": [
        {
          "output_type": "stream",
          "text": [
            "1--->2--->3--->4--->5--->6\n",
            "1--->2--->3--->4--->6\n",
            "1--->2--->3--->6\n",
            "1--->2--->6\n",
            "2--->6\n",
            "6\n"
          ],
          "name": "stdout"
        }
      ]
    }
  ]
}