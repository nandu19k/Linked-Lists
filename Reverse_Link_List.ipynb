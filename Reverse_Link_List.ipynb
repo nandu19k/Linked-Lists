{
  "nbformat": 4,
  "nbformat_minor": 0,
  "metadata": {
    "colab": {
      "name": "Reverse Link List.ipynb",
      "provenance": []
    },
    "kernelspec": {
      "name": "python3",
      "display_name": "Python 3"
    }
  },
  "cells": [
    {
      "cell_type": "code",
      "metadata": {
        "id": "4T1RB_mFTGJ-"
      },
      "source": [
        "class Node:\n",
        "  def __init__(self , data=None , next=None):\n",
        "    self.data = data\n",
        "    self.next = next"
      ],
      "execution_count": 1,
      "outputs": []
    },
    {
      "cell_type": "code",
      "metadata": {
        "id": "gSd4eoI_TaOi"
      },
      "source": [
        "class LinkedList:\n",
        "  def __init__(self):\n",
        "    self.head = None\n",
        "\n",
        "  def printlist(self):\n",
        "    if self.head is None:\n",
        "      print('Linked List is empty')\n",
        "      return\n",
        "\n",
        "    itr = self.head\n",
        "    llstr = ''\n",
        "    while itr:\n",
        "      llstr += str(itr.data)+'---->' if itr.next else str(itr.data)\n",
        "      itr = itr.next\n",
        "\n",
        "    print(llstr)\n",
        "\n",
        "  def insert_at_begining(self , data):\n",
        "    node = Node(data , self.head)\n",
        "    self.head = node\n",
        "\n",
        "\n",
        "  def reverse(self):\n",
        "    if self.head is None:\n",
        "      return\n",
        "\n",
        "    current = self.head\n",
        "    prev = None\n",
        "\n",
        "    while current:\n",
        "      next = current.next\n",
        "      current.next = prev\n",
        "      prev = current\n",
        "      current = next\n",
        "    \n",
        "    self.head = prev    "
      ],
      "execution_count": 2,
      "outputs": []
    },
    {
      "cell_type": "code",
      "metadata": {
        "id": "Wnq0wAc1aoD5",
        "outputId": "24407c09-16af-400f-b3be-2c8490117014",
        "colab": {
          "base_uri": "https://localhost:8080/"
        }
      },
      "source": [
        "if __name__ == '__main__':\n",
        "  ll = LinkedList()\n",
        "  ll.insert_at_begining(1)\n",
        "  ll.insert_at_begining(2)\n",
        "  ll.insert_at_begining(3)\n",
        "  ll.insert_at_begining(4)\n",
        "  ll.insert_at_begining(5)\n",
        "  ll.insert_at_begining(6)\n",
        "  ll.printlist()\n",
        "  ll.reverse()\n",
        "  ll.printlist()\n",
        "  \n"
      ],
      "execution_count": 3,
      "outputs": [
        {
          "output_type": "stream",
          "text": [
            "6---->5---->4---->3---->2---->1\n",
            "1---->2---->3---->4---->5---->6\n"
          ],
          "name": "stdout"
        }
      ]
    }
  ]
}